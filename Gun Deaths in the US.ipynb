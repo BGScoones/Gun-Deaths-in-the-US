{
 "cells": [
  {
   "cell_type": "markdown",
   "metadata": {},
   "source": [
    "## Exploring gun deaths in the US\n",
    "\n",
    "In this project, I'll be working with data on gun deaths in the US from 2012 to 2014. The dataset comes from FiveThirtyEight. I'll take a brief look at how number of deaths changes between the years, and whether there is a difference in the numbers of men and women whose deaths are gun-related. However, I'll primarily be focusing on gun deaths by race, and breaking down the related statistics."
   ]
  },
  {
   "cell_type": "code",
   "execution_count": 1,
   "metadata": {},
   "outputs": [],
   "source": [
    "import csv\n",
    "file = open(\"guns.csv\", \"r\")\n",
    "data = list(csv.reader(file))"
   ]
  },
  {
   "cell_type": "code",
   "execution_count": 2,
   "metadata": {},
   "outputs": [],
   "source": [
    "headers = data[0]\n",
    "data = data[1:]"
   ]
  },
  {
   "cell_type": "code",
   "execution_count": 3,
   "metadata": {},
   "outputs": [
    {
     "data": {
      "text/plain": [
       "{'2012': 33563, '2013': 33636, '2014': 33599}"
      ]
     },
     "execution_count": 3,
     "metadata": {},
     "output_type": "execute_result"
    }
   ],
   "source": [
    "years = [row[1] for row in data]\n",
    "year_counts = {}\n",
    "for year in years:\n",
    "    if year not in year_counts:\n",
    "        year_counts[year] = 0\n",
    "    year_counts[year] += 1\n",
    "year_counts"
   ]
  },
  {
   "cell_type": "code",
   "execution_count": 4,
   "metadata": {},
   "outputs": [],
   "source": [
    "import datetime\n",
    "dates = [datetime.datetime(year = int(row[1]), month = int(row[2]), day = 1) for row in data]"
   ]
  },
  {
   "cell_type": "code",
   "execution_count": 5,
   "metadata": {
    "scrolled": true
   },
   "outputs": [],
   "source": [
    "date_counts = {}\n",
    "for date in dates:\n",
    "    if date not in date_counts:\n",
    "        date_counts[date] = 0\n",
    "    date_counts[date] += 1"
   ]
  },
  {
   "cell_type": "code",
   "execution_count": 6,
   "metadata": {},
   "outputs": [
    {
     "data": {
      "text/plain": [
       "{'M': 86349, 'F': 14449}"
      ]
     },
     "execution_count": 6,
     "metadata": {},
     "output_type": "execute_result"
    }
   ],
   "source": [
    "sexes = [row[5] for row in data]\n",
    "sex_counts = {}\n",
    "for sex in sexes:\n",
    "    if sex not in sex_counts:\n",
    "        sex_counts[sex] = 0\n",
    "    sex_counts[sex] += 1\n",
    "sex_counts"
   ]
  },
  {
   "cell_type": "code",
   "execution_count": 7,
   "metadata": {},
   "outputs": [
    {
     "data": {
      "text/plain": [
       "{'Asian/Pacific Islander': 1326,\n",
       " 'White': 66237,\n",
       " 'Native American/Native Alaskan': 917,\n",
       " 'Black': 23296,\n",
       " 'Hispanic': 9022}"
      ]
     },
     "execution_count": 7,
     "metadata": {},
     "output_type": "execute_result"
    }
   ],
   "source": [
    "races = [row[7] for row in data]\n",
    "race_counts = {}\n",
    "for race in races:\n",
    "    if race not in race_counts:\n",
    "        race_counts[race] = 0\n",
    "    race_counts[race] += 1\n",
    "\n",
    "race_counts"
   ]
  },
  {
   "cell_type": "markdown",
   "metadata": {},
   "source": [
    "## First Thoughts ##\n",
    "\n",
    "We can see from the above that there is little change in the number of gun deaths from year to year.\n",
    "\n",
    "There are many more male victims, and knowing that the sex ratio of males to females in the US is approximately 1:1, we can conclude that the victims are disproportionately male.\n",
    "\n",
    "There are many more white victims than those of other races. However, we require further figures to determine whether or not these figures are proportional to these races as a percentage of the population - a more noteworthy statistic. As gun death rates are typically presented as per 100,000, we need to use the above numbers as well as statistics on the racial make-up of the US population to calculate the number of gun deaths per 100,000 people for each race."
   ]
  },
  {
   "cell_type": "code",
   "execution_count": 8,
   "metadata": {},
   "outputs": [],
   "source": [
    "file = open(\"census.csv\", \"r\")\n",
    "census = list(csv.reader(file))"
   ]
  },
  {
   "cell_type": "code",
   "execution_count": 9,
   "metadata": {},
   "outputs": [
    {
     "data": {
      "text/plain": [
       "{'Asian/Pacific Islander': 15834141,\n",
       " 'Black': 40250635,\n",
       " 'Native American/Native Alaskan': 3739506,\n",
       " 'Hispanic': 44618105,\n",
       " 'White': 197318956}"
      ]
     },
     "execution_count": 9,
     "metadata": {},
     "output_type": "execute_result"
    }
   ],
   "source": [
    "mapping = {\"Asian/Pacific Islander\": (int(census[1][14]) + int(census[1][15])), \"Black\": int(census[1][12]), \"Native American/Native Alaskan\": int(census[1][13]), \"Hispanic\": int(census[1][11]), \"White\": int(census[1][10])}\n",
    "# Collecting data on the US population partitioned by race.\n",
    "mapping"
   ]
  },
  {
   "cell_type": "code",
   "execution_count": 10,
   "metadata": {},
   "outputs": [
    {
     "data": {
      "text/plain": [
       "{'Asian/Pacific Islander': 8.374309664161762,\n",
       " 'White': 33.56849303419181,\n",
       " 'Native American/Native Alaskan': 24.521955573811088,\n",
       " 'Black': 57.8773477735196,\n",
       " 'Hispanic': 20.220491210910907}"
      ]
     },
     "execution_count": 10,
     "metadata": {},
     "output_type": "execute_result"
    }
   ],
   "source": [
    "race_per_hundredk = {}\n",
    "for key in race_counts:\n",
    "    race_per_hundredk[key] = (race_counts[key]/mapping[key])*100000\n",
    "race_per_hundredk"
   ]
  },
  {
   "cell_type": "markdown",
   "metadata": {},
   "source": [
    "So, we can now see that, per 100,000, the number of gun deaths relative to race are quite different. While whites were victims of the highest number of gun deaths, blacks are victims of the highest number of gun deaths per 100,000 people of their race, with 57.88 deaths per 100,000. Whites are still high on this figure, however, with 33.57 deaths per 100,000.\n",
    "\n",
    "We can learn more about these figures by investigating how many of these deaths are due to homicides."
   ]
  },
  {
   "cell_type": "code",
   "execution_count": 11,
   "metadata": {},
   "outputs": [
    {
     "data": {
      "text/plain": [
       "{'Asian/Pacific Islander': 3.530346230970155,\n",
       " 'White': 4.6356417981453335,\n",
       " 'Native American/Native Alaskan': 8.717729026240365,\n",
       " 'Black': 48.471284987180944,\n",
       " 'Hispanic': 12.627161104219914}"
      ]
     },
     "execution_count": 11,
     "metadata": {},
     "output_type": "execute_result"
    }
   ],
   "source": [
    "intents = [row[3] for row in data]\n",
    "\n",
    "race_counts_for_homicides = {}\n",
    "for index, race in enumerate(races):\n",
    "    if race not in race_counts_for_homicides:\n",
    "        race_counts_for_homicides[race] = 0\n",
    "    if intents[index] == \"Homicide\":\n",
    "            race_counts_for_homicides[race] += 1\n",
    "            \n",
    "race_sorted_homicides_per_hundredk = {}\n",
    "for key, value in race_counts_for_homicides.items():\n",
    "    race_sorted_homicides_per_hundredk[key] = (value/mapping[key])*100000\n",
    "race_sorted_homicides_per_hundredk"
   ]
  },
  {
   "cell_type": "markdown",
   "metadata": {
    "collapsed": true
   },
   "source": [
    "These numbers are drastically different for most races, but not so for blacks. Let's calculate the percentage of gun deaths due to homicides for each race."
   ]
  },
  {
   "cell_type": "code",
   "execution_count": 12,
   "metadata": {},
   "outputs": [
    {
     "data": {
      "text/plain": [
       "{'Asian/Pacific Islander': 42.16,\n",
       " 'White': 13.81,\n",
       " 'Native American/Native Alaskan': 35.55,\n",
       " 'Black': 83.75,\n",
       " 'Hispanic': 62.45}"
      ]
     },
     "execution_count": 12,
     "metadata": {},
     "output_type": "execute_result"
    }
   ],
   "source": [
    "percentage_homicide_deaths = {}\n",
    "for key, value in race_counts_for_homicides.items():\n",
    "    percentage = (value/race_counts[key])*100\n",
    "    percentage_homicide_deaths[key] = round(percentage, 2)\n",
    "percentage_homicide_deaths"
   ]
  },
  {
   "cell_type": "markdown",
   "metadata": {},
   "source": [
    "We can now see that a huge proportion of blacks whose deaths are related to guns die due to homicides. Let's sort the numbers above to see how the percentage for each race compares to that of others. We'll also define some functions for if we want to see just the highest or lowest percentage."
   ]
  },
  {
   "cell_type": "code",
   "execution_count": 13,
   "metadata": {},
   "outputs": [],
   "source": [
    "def sorted_gun_deaths(dictionary):\n",
    "    return(sorted(dictionary.items(), key=lambda x: x[1], reverse = True))"
   ]
  },
  {
   "cell_type": "code",
   "execution_count": 14,
   "metadata": {},
   "outputs": [
    {
     "data": {
      "text/plain": [
       "[('Black', 83.75),\n",
       " ('Hispanic', 62.45),\n",
       " ('Asian/Pacific Islander', 42.16),\n",
       " ('Native American/Native Alaskan', 35.55),\n",
       " ('White', 13.81)]"
      ]
     },
     "execution_count": 14,
     "metadata": {},
     "output_type": "execute_result"
    }
   ],
   "source": [
    "sorted_gun_deaths(percentage_homicide_deaths)"
   ]
  },
  {
   "cell_type": "code",
   "execution_count": 15,
   "metadata": {},
   "outputs": [
    {
     "data": {
      "text/plain": [
       "('Black', 83.75)"
      ]
     },
     "execution_count": 15,
     "metadata": {},
     "output_type": "execute_result"
    }
   ],
   "source": [
    "def highest_gun_deaths(dictionary):\n",
    "    highest = None\n",
    "    for key, value in dictionary.items():\n",
    "        if highest == None or value > highest[1]:\n",
    "            highest = (key, value)\n",
    "    return(highest)\n",
    "\n",
    "highest_gun_deaths(percentage_homicide_deaths)"
   ]
  },
  {
   "cell_type": "code",
   "execution_count": 16,
   "metadata": {},
   "outputs": [
    {
     "data": {
      "text/plain": [
       "('White', 13.81)"
      ]
     },
     "execution_count": 16,
     "metadata": {},
     "output_type": "execute_result"
    }
   ],
   "source": [
    "def lowest_gun_deaths(dictionary):\n",
    "    lowest = None\n",
    "    for key, value in dictionary.items():\n",
    "        if lowest == None or value < lowest[1]:\n",
    "            lowest = (key, value)\n",
    "    return(lowest)\n",
    "\n",
    "lowest_gun_deaths(percentage_homicide_deaths)"
   ]
  },
  {
   "cell_type": "markdown",
   "metadata": {},
   "source": [
    "Since whites are the race that are the victims of the smallest percentage of gun homicides, let's find out the reason for the rest of the deaths. First, we'll create a new list of just the intent column when the race is white. Then, we'll produce a list of the unique intents. Then, we'll find out how often each of them occurs. Finally, we'll calculate how often each intent occurs as a percentage of total deaths."
   ]
  },
  {
   "cell_type": "code",
   "execution_count": 17,
   "metadata": {},
   "outputs": [],
   "source": [
    "white_deaths = [row[3] for row in data if row[7] == \"White\"]"
   ]
  },
  {
   "cell_type": "code",
   "execution_count": 18,
   "metadata": {},
   "outputs": [
    {
     "data": {
      "text/plain": [
       "['Suicide', 'NA', 'Homicide', 'Undetermined', 'Accidental']"
      ]
     },
     "execution_count": 18,
     "metadata": {},
     "output_type": "execute_result"
    }
   ],
   "source": [
    "intents_white_deaths = list(set(white_deaths))\n",
    "intents_white_deaths"
   ]
  },
  {
   "cell_type": "code",
   "execution_count": 19,
   "metadata": {},
   "outputs": [
    {
     "data": {
      "text/plain": [
       "{'Suicide': 55372,\n",
       " 'Undetermined': 585,\n",
       " 'Accidental': 1132,\n",
       " 'Homicide': 9147,\n",
       " 'NA': 1}"
      ]
     },
     "execution_count": 19,
     "metadata": {},
     "output_type": "execute_result"
    }
   ],
   "source": [
    "intent_count = {}\n",
    "for intent in white_deaths:\n",
    "    if intent not in intent_count:\n",
    "        intent_count[intent] = 0\n",
    "    intent_count[intent] += 1\n",
    "intent_count"
   ]
  },
  {
   "cell_type": "code",
   "execution_count": 20,
   "metadata": {},
   "outputs": [
    {
     "data": {
      "text/plain": [
       "{'Suicide': 83.6,\n",
       " 'Undetermined': 0.88,\n",
       " 'Accidental': 1.71,\n",
       " 'Homicide': 13.81,\n",
       " 'NA': 0.0}"
      ]
     },
     "execution_count": 20,
     "metadata": {},
     "output_type": "execute_result"
    }
   ],
   "source": [
    "intents_percentage = {}\n",
    "for key, value in intent_count.items():\n",
    "    percentage = (value/(len(white_deaths)))*100\n",
    "    intents_percentage[key] = round(percentage, 2)\n",
    "intents_percentage"
   ]
  },
  {
   "cell_type": "code",
   "execution_count": 21,
   "metadata": {},
   "outputs": [
    {
     "data": {
      "text/plain": [
       "[('Suicide', 83.6),\n",
       " ('Homicide', 13.81),\n",
       " ('Accidental', 1.71),\n",
       " ('Undetermined', 0.88),\n",
       " ('NA', 0.0)]"
      ]
     },
     "execution_count": 21,
     "metadata": {},
     "output_type": "execute_result"
    }
   ],
   "source": [
    "sorted_intents_percentage = sorted_gun_deaths(intents_percentage)\n",
    "sorted_intents_percentage"
   ]
  },
  {
   "cell_type": "markdown",
   "metadata": {},
   "source": [
    "Thus, we see that suicide is by far the leading intent in white gun deaths."
   ]
  }
 ],
 "metadata": {
  "kernelspec": {
   "display_name": "Python 3",
   "language": "python",
   "name": "python3"
  },
  "language_info": {
   "codemirror_mode": {
    "name": "ipython",
    "version": 3
   },
   "file_extension": ".py",
   "mimetype": "text/x-python",
   "name": "python",
   "nbconvert_exporter": "python",
   "pygments_lexer": "ipython3",
   "version": "3.7.0"
  }
 },
 "nbformat": 4,
 "nbformat_minor": 1
}
